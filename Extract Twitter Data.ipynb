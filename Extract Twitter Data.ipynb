{
 "cells": [
  {
   "cell_type": "code",
   "execution_count": 29,
   "metadata": {},
   "outputs": [],
   "source": [
    "import tweepy\n",
    "import pandas as pd\n",
    "import numpy as np"
   ]
  },
  {
   "cell_type": "code",
   "execution_count": 30,
   "metadata": {},
   "outputs": [],
   "source": [
    "consumer_key=\"YpWcXe4P2MaMsffVdeuwwr3nM\"\n",
    "consumer_secret=\"yG5yFfCWprcBvgUv5GTTmdw8ROOHJrRiRR3ca2FgruqKsgFJHP\"\n",
    "access_token=\"1276589112615596032-kEXUvreUqCy2osZsMVeEiWqWrREiIP\"\n",
    "access_token_secret=\"1szE25rTB4Sxfm9DcLumvci1Haoa7MUao8xjA9j8xws1s\"\n",
    "my_bearer_token =\"AAAAAAAAAAAAAAAAAAAAAATSXAEAAAAAiBNyVM8QkZRN8mvN605Om40Ao%2B0%3D1mYW2Kws0PGXYIfwfyqwAW5mkm48wl9fc0bX1ucuUPI3AbkXc6\""
   ]
  },
  {
   "cell_type": "code",
   "execution_count": 31,
   "metadata": {},
   "outputs": [],
   "source": [
    "# create your client \n",
    "client = tweepy.Client(bearer_token=my_bearer_token)"
   ]
  },
  {
   "cell_type": "code",
   "execution_count": 80,
   "metadata": {},
   "outputs": [
    {
     "name": "stdout",
     "output_type": "stream",
     "text": [
      "#tokyo\n"
     ]
    }
   ],
   "source": [
    "qw=input()"
   ]
  },
  {
   "cell_type": "code",
   "execution_count": 81,
   "metadata": {},
   "outputs": [
    {
     "data": {
      "text/plain": [
       "'#tokyo lang:en'"
      ]
     },
     "execution_count": 81,
     "metadata": {},
     "output_type": "execute_result"
    }
   ],
   "source": [
    "# query to search for tweets\n",
    "query = qw+\" lang:en\"\n",
    "query"
   ]
  },
  {
   "cell_type": "code",
   "execution_count": 82,
   "metadata": {},
   "outputs": [],
   "source": [
    "# your start and end time for fetching tweets\n",
    "#start_time = \"2021-12-10T00:00:00Z\"\n",
    "#end_time = \"2021-12-14T00:00:00Z\"\n",
    "\n",
    "# get tweets from the API\n",
    "tweets = client.search_recent_tweets(query=query,\n",
    "                                     #start_time=start_time,\n",
    "                                     #end_time=end_time,\n",
    "                                     tweet_fields = [\"created_at\", \"text\",\"public_metrics\",\"entities\"],\n",
    "                                     user_fields = [\"name\", \"username\", \"location\", \"verified\", \"description\",\"public_metrics\"],\n",
    "                                     max_results = 100,\n",
    "                                     expansions='author_id'\n",
    "                                     )"
   ]
  },
  {
   "cell_type": "code",
   "execution_count": 83,
   "metadata": {},
   "outputs": [
    {
     "name": "stdout",
     "output_type": "stream",
     "text": [
      "100\n",
      "50\n"
     ]
    }
   ],
   "source": [
    "# tweet specific info\n",
    "print(len(tweets.data))\n",
    "# user specific info\n",
    "print(len(tweets.includes[\"users\"]))"
   ]
  },
  {
   "cell_type": "code",
   "execution_count": 84,
   "metadata": {},
   "outputs": [
    {
     "data": {
      "text/plain": [
       "{'entities': {'hashtags': [{'start': 73, 'end': 79, 'tag': 'Tokyo'}],\n",
       "  'urls': [{'start': 80,\n",
       "    'end': 103,\n",
       "    'url': 'https://t.co/QpxERwpmNo',\n",
       "    'expanded_url': 'https://twitter.com/tokyo_todd/status/1472873363622498304/photo/1',\n",
       "    'display_url': 'pic.twitter.com/QpxERwpmNo'}]},\n",
       " 'text': 'Don’t worry, the skytube probably comes in peace. Just do what it says. \\n#Tokyo https://t.co/QpxERwpmNo',\n",
       " 'created_at': datetime.datetime(2021, 12, 20, 10, 15, 49, tzinfo=datetime.timezone.utc),\n",
       " 'public_metrics': {'retweet_count': 0,\n",
       "  'reply_count': 0,\n",
       "  'like_count': 2,\n",
       "  'quote_count': 0},\n",
       " 'id': 1472873363622498304,\n",
       " 'author_id': 192101447}"
      ]
     },
     "execution_count": 84,
     "metadata": {},
     "output_type": "execute_result"
    }
   ],
   "source": [
    "first_tweet = tweets.data[10]\n",
    "dict(first_tweet)"
   ]
  },
  {
   "cell_type": "code",
   "execution_count": 85,
   "metadata": {},
   "outputs": [
    {
     "data": {
      "text/plain": [
       "{'location': 'Hidaka-shi, Saitama',\n",
       " 'username': 'tokyo_todd',\n",
       " 'verified': False,\n",
       " 'id': 192101447,\n",
       " 'public_metrics': {'followers_count': 621,\n",
       "  'following_count': 1141,\n",
       "  'tweet_count': 4429,\n",
       "  'listed_count': 22},\n",
       " 'description': 'Writer, editor, strummer of guitars, collector of books and rocks, hugger of trees, taker of less-traveled roads. Living in Japan since 1990.',\n",
       " 'name': 'Todd Fouts'}"
      ]
     },
     "execution_count": 85,
     "metadata": {},
     "output_type": "execute_result"
    }
   ],
   "source": [
    "# user information for the first tweet\n",
    "first_tweet_user = tweets.includes[\"users\"][10]\n",
    "dict(first_tweet_user)"
   ]
  },
  {
   "cell_type": "code",
   "execution_count": 86,
   "metadata": {},
   "outputs": [
    {
     "name": "stdout",
     "output_type": "stream",
     "text": [
      "['Tokyo']\n"
     ]
    },
    {
     "data": {
      "text/plain": [
       "list"
      ]
     },
     "execution_count": 86,
     "metadata": {},
     "output_type": "execute_result"
    }
   ],
   "source": [
    "#dict(first_tweet)\n",
    "tg=[]\n",
    "for i in first_tweet['entities']['hashtags']:\n",
    "        tg.append(i['tag'])\n",
    "print(str(tg))\n",
    "type(tg)"
   ]
  },
  {
   "cell_type": "code",
   "execution_count": 87,
   "metadata": {},
   "outputs": [],
   "source": [
    "def tags(t):\n",
    "    tgs=[]\n",
    "    ett=dict(t)\n",
    "    if 'hashtags' in ett['entities']:\n",
    "        for i in ett['entities']['hashtags']:\n",
    "            tgs.append(i['tag'])\n",
    "    return tgs"
   ]
  },
  {
   "cell_type": "code",
   "execution_count": 88,
   "metadata": {},
   "outputs": [
    {
     "data": {
      "text/html": [
       "<div>\n",
       "<style scoped>\n",
       "    .dataframe tbody tr th:only-of-type {\n",
       "        vertical-align: middle;\n",
       "    }\n",
       "\n",
       "    .dataframe tbody tr th {\n",
       "        vertical-align: top;\n",
       "    }\n",
       "\n",
       "    .dataframe thead th {\n",
       "        text-align: right;\n",
       "    }\n",
       "</style>\n",
       "<table border=\"1\" class=\"dataframe\">\n",
       "  <thead>\n",
       "    <tr style=\"text-align: right;\">\n",
       "      <th></th>\n",
       "      <th>created_at</th>\n",
       "      <th>text</th>\n",
       "      <th>retweet_count</th>\n",
       "      <th>like_count</th>\n",
       "      <th>hashtags</th>\n",
       "      <th>name</th>\n",
       "      <th>username</th>\n",
       "      <th>location</th>\n",
       "      <th>verified</th>\n",
       "      <th>description</th>\n",
       "      <th>following</th>\n",
       "      <th>followers</th>\n",
       "      <th>totaltweets</th>\n",
       "    </tr>\n",
       "  </thead>\n",
       "  <tbody>\n",
       "    <tr>\n",
       "      <th>0</th>\n",
       "      <td>2021-12-20 10:36:11+00:00</td>\n",
       "      <td>RT @yonan_ichan: Juzu glow art \\n\\n📌Open for A...</td>\n",
       "      <td>3</td>\n",
       "      <td>0</td>\n",
       "      <td>[anime, AnimeArt, animetwt, animefanart]</td>\n",
       "      <td>tan’s art acc 🌤 ia for a bit</td>\n",
       "      <td>arts_by_tan</td>\n",
       "      <td>None</td>\n",
       "      <td>False</td>\n",
       "      <td>ig: arts_by_tan , he/him/they, 🇵🇭, haii I am T...</td>\n",
       "      <td>1033</td>\n",
       "      <td>1438</td>\n",
       "      <td>7840</td>\n",
       "    </tr>\n",
       "    <tr>\n",
       "      <th>1</th>\n",
       "      <td>2021-12-20 10:34:40+00:00</td>\n",
       "      <td>RT @FrauHodl: 🟣 .com-Domain for sale\\n\\nhttps:...</td>\n",
       "      <td>3</td>\n",
       "      <td>0</td>\n",
       "      <td>[Metaverse, virtual, AI, MachineLearning, bran...</td>\n",
       "      <td>FrauHodl.x 💃🏻</td>\n",
       "      <td>FrauHodl_CMO</td>\n",
       "      <td>None</td>\n",
       "      <td>False</td>\n",
       "      <td>Web3NFT | Web3 | Advisory | xxxx.888 #Web3 #Un...</td>\n",
       "      <td>1022</td>\n",
       "      <td>267</td>\n",
       "      <td>185</td>\n",
       "    </tr>\n",
       "    <tr>\n",
       "      <th>2</th>\n",
       "      <td>2021-12-20 10:30:15+00:00</td>\n",
       "      <td>RT @popuptravelexp: https://t.co/xf94BmtcpW BO...</td>\n",
       "      <td>1</td>\n",
       "      <td>0</td>\n",
       "      <td>[adventure, travel, flight]</td>\n",
       "      <td>Popup Travel Experiences</td>\n",
       "      <td>popup_travel</td>\n",
       "      <td>Sydney, New South Wales</td>\n",
       "      <td>False</td>\n",
       "      <td>Pop up travel experience - tours - hotels http...</td>\n",
       "      <td>173</td>\n",
       "      <td>94</td>\n",
       "      <td>659</td>\n",
       "    </tr>\n",
       "    <tr>\n",
       "      <th>3</th>\n",
       "      <td>2021-12-20 10:29:57+00:00</td>\n",
       "      <td>#NowPlaying DJ Tag - DJ Layne on @BN4IA #Radio...</td>\n",
       "      <td>0</td>\n",
       "      <td>0</td>\n",
       "      <td>[NowPlaying, Radio, Tokyo]</td>\n",
       "      <td>BN4IA</td>\n",
       "      <td>BN4IA</td>\n",
       "      <td>Las Vegas</td>\n",
       "      <td>False</td>\n",
       "      <td>Broadcast Network for Indie Artists - Via FTA ...</td>\n",
       "      <td>1654</td>\n",
       "      <td>1224</td>\n",
       "      <td>72107</td>\n",
       "    </tr>\n",
       "    <tr>\n",
       "      <th>4</th>\n",
       "      <td>2021-12-20 10:29:34+00:00</td>\n",
       "      <td>RT @yonan_ichan: Juzu glow art \\n\\n📌Open for A...</td>\n",
       "      <td>3</td>\n",
       "      <td>0</td>\n",
       "      <td>[anime, AnimeArt, animetwt, animefanart]</td>\n",
       "      <td>📌❄ r o n i. comms open. 🖤</td>\n",
       "      <td>roniiiqdr</td>\n",
       "      <td>ig:@roniiiqdr|| She/Her || 21+</td>\n",
       "      <td>False</td>\n",
       "      <td>I draw—. || PROMO ongoing! || coffee?</td>\n",
       "      <td>1118</td>\n",
       "      <td>1196</td>\n",
       "      <td>7042</td>\n",
       "    </tr>\n",
       "  </tbody>\n",
       "</table>\n",
       "</div>"
      ],
      "text/plain": [
       "                 created_at  \\\n",
       "0 2021-12-20 10:36:11+00:00   \n",
       "1 2021-12-20 10:34:40+00:00   \n",
       "2 2021-12-20 10:30:15+00:00   \n",
       "3 2021-12-20 10:29:57+00:00   \n",
       "4 2021-12-20 10:29:34+00:00   \n",
       "\n",
       "                                                text  retweet_count  \\\n",
       "0  RT @yonan_ichan: Juzu glow art \\n\\n📌Open for A...              3   \n",
       "1  RT @FrauHodl: 🟣 .com-Domain for sale\\n\\nhttps:...              3   \n",
       "2  RT @popuptravelexp: https://t.co/xf94BmtcpW BO...              1   \n",
       "3  #NowPlaying DJ Tag - DJ Layne on @BN4IA #Radio...              0   \n",
       "4  RT @yonan_ichan: Juzu glow art \\n\\n📌Open for A...              3   \n",
       "\n",
       "   like_count                                           hashtags  \\\n",
       "0           0           [anime, AnimeArt, animetwt, animefanart]   \n",
       "1           0  [Metaverse, virtual, AI, MachineLearning, bran...   \n",
       "2           0                        [adventure, travel, flight]   \n",
       "3           0                         [NowPlaying, Radio, Tokyo]   \n",
       "4           0           [anime, AnimeArt, animetwt, animefanart]   \n",
       "\n",
       "                           name      username                        location  \\\n",
       "0  tan’s art acc 🌤 ia for a bit   arts_by_tan                            None   \n",
       "1                 FrauHodl.x 💃🏻  FrauHodl_CMO                            None   \n",
       "2      Popup Travel Experiences  popup_travel         Sydney, New South Wales   \n",
       "3                         BN4IA         BN4IA                       Las Vegas   \n",
       "4     📌❄ r o n i. comms open. 🖤     roniiiqdr  ig:@roniiiqdr|| She/Her || 21+   \n",
       "\n",
       "   verified                                        description  following  \\\n",
       "0     False  ig: arts_by_tan , he/him/they, 🇵🇭, haii I am T...       1033   \n",
       "1     False  Web3NFT | Web3 | Advisory | xxxx.888 #Web3 #Un...       1022   \n",
       "2     False  Pop up travel experience - tours - hotels http...        173   \n",
       "3     False  Broadcast Network for Indie Artists - Via FTA ...       1654   \n",
       "4     False              I draw—. || PROMO ongoing! || coffee?       1118   \n",
       "\n",
       "   followers  totaltweets  \n",
       "0       1438         7840  \n",
       "1        267          185  \n",
       "2         94          659  \n",
       "3       1224        72107  \n",
       "4       1196         7042  "
      ]
     },
     "execution_count": 88,
     "metadata": {},
     "output_type": "execute_result"
    }
   ],
   "source": [
    "# create a list of records\n",
    "tweet_info_ls = []\n",
    "# iterate over each tweet and corresponding user details\n",
    "for tweet, user in zip(tweets.data, tweets.includes['users']):\n",
    "    tweet_info = {\n",
    "        'created_at': tweet.created_at,\n",
    "        'text': tweet.text,\n",
    "        'retweet_count': tweet.public_metrics['retweet_count'],\n",
    "        'like_count' : tweet.public_metrics['like_count'],\n",
    "        'hashtags' : tags(tweet),\n",
    "        'name': user.name,\n",
    "        'username': user.username,\n",
    "        'location': user.location,\n",
    "        'verified': user.verified,\n",
    "        'description': user.description,\n",
    "        'following' : user.public_metrics['following_count'],\n",
    "        'followers' : user.public_metrics['followers_count'],\n",
    "        'totaltweets' : user.public_metrics['tweet_count']\n",
    "    }\n",
    "    tweet_info_ls.append(tweet_info)\n",
    "# create dataframe from the extracted records\n",
    "tweets_df = pd.DataFrame(tweet_info_ls)\n",
    "# display the dataframe\n",
    "tweets_df.head()"
   ]
  },
  {
   "cell_type": "code",
   "execution_count": 89,
   "metadata": {},
   "outputs": [],
   "source": [
    "tweets_df.to_csv(r'C:\\Users\\Pranjal Gupta\\Desktop\\Twitter data\\output.csv', index=False)"
   ]
  },
  {
   "cell_type": "code",
   "execution_count": null,
   "metadata": {},
   "outputs": [],
   "source": []
  }
 ],
 "metadata": {
  "kernelspec": {
   "display_name": "Python 3",
   "language": "python",
   "name": "python3"
  },
  "language_info": {
   "codemirror_mode": {
    "name": "ipython",
    "version": 3
   },
   "file_extension": ".py",
   "mimetype": "text/x-python",
   "name": "python",
   "nbconvert_exporter": "python",
   "pygments_lexer": "ipython3",
   "version": "3.8.5"
  }
 },
 "nbformat": 4,
 "nbformat_minor": 4
}
